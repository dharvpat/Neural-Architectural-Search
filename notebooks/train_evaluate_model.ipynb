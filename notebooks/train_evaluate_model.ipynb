{
 "cells": [
  {
   "cell_type": "code",
   "execution_count": 25,
   "metadata": {},
   "outputs": [
    {
     "name": "stderr",
     "output_type": "stream",
     "text": [
      "/Users/dharv/Library/Python/3.9/lib/python/site-packages/transformers/utils/generic.py:441: UserWarning: torch.utils._pytree._register_pytree_node is deprecated. Please use torch.utils._pytree.register_pytree_node instead.\n",
      "  _torch_pytree._register_pytree_node(\n"
     ]
    },
    {
     "name": "stdout",
     "output_type": "stream",
     "text": [
      "Downloading https://www.cs.toronto.edu/~kriz/cifar-10-python.tar.gz to ./data/raw/cifar-10-python.tar.gz\n"
     ]
    },
    {
     "name": "stderr",
     "output_type": "stream",
     "text": [
      " 62%|██████▏   | 105086976/170498071 [00:08<00:08, 7319217.75it/s]"
     ]
    }
   ],
   "source": [
    "import sys\n",
    "sys.path.append('..')\n",
    "# Import necessary modules\n",
    "from models.search_space.search_space import SearchSpace\n",
    "from scripts.train_model import train_model\n",
    "from scripts.data_utils import load_cifar10\n",
    "\n",
    "# Load CIFAR-10 dataset\n",
    "trainloader, testloader = load_cifar10(batch_size=128)\n",
    "\n",
    "# Define search space\n",
    "search_space = SearchSpace(input_channels=3, num_classes=10)\n",
    "\n",
    "# Define the best architecture from NAS (RL or EA)\n",
    "best_architecture = [(32, 3, 1), (64, 3, 2), (128, 3, 2)]  # Example best architecture\n",
    "\n",
    "# Generate the model\n",
    "model = search_space.generate(best_architecture)\n",
    "\n",
    "# Train the best architecture\n",
    "train_model(model, trainloader, testloader, device='cuda')"
   ]
  }
 ],
 "metadata": {
  "kernelspec": {
   "display_name": "Python 3",
   "language": "python",
   "name": "python3"
  },
  "language_info": {
   "codemirror_mode": {
    "name": "ipython",
    "version": 3
   },
   "file_extension": ".py",
   "mimetype": "text/x-python",
   "name": "python",
   "nbconvert_exporter": "python",
   "pygments_lexer": "ipython3",
   "version": "3.9.6"
  }
 },
 "nbformat": 4,
 "nbformat_minor": 2
}
