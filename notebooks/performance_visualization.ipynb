{
 "cells": [
  {
   "cell_type": "code",
   "execution_count": null,
   "metadata": {},
   "outputs": [],
   "source": [
    "# Import necessary modules\n",
    "import matplotlib.pyplot as plt\n",
    "\n",
    "# Sample data (performance of architectures over generations/iterations)\n",
    "generations = list(range(1, 21))\n",
    "rewards = [72, 75, 78, 80, 82, 83, 85, 87, 88, 89, 90, 90.5, 91, 91.2, 91.3, 91.5, 91.7, 91.9, 92, 92.1]\n",
    "\n",
    "# Plot performance over generations/iterations\n",
    "plt.plot(generations, rewards, marker='o')\n",
    "plt.title('NAS Architecture Performance over Generations')\n",
    "plt.xlabel('Generation/Iteration')\n",
    "plt.ylabel('Reward (Accuracy - Cost Penalty)')\n",
    "plt.grid(True)\n",
    "plt.show()"
   ]
  }
 ],
 "metadata": {
  "language_info": {
   "name": "python"
  }
 },
 "nbformat": 4,
 "nbformat_minor": 2
}
