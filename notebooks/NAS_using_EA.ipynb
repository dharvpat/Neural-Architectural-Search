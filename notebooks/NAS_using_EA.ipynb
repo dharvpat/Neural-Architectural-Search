{
 "cells": [
  {
   "cell_type": "code",
   "execution_count": null,
   "metadata": {},
   "outputs": [],
   "source": [
    "# Import necessary modules\n",
    "from models.search_space.search_space import SearchSpace\n",
    "from scripts.nas_ea import evolutionary_search, mutate_architecture, crossover_architectures\n",
    "from scripts.data_utils import load_cifar10\n",
    "\n",
    "# Load the dataset\n",
    "trainloader, testloader = load_cifar10(batch_size=128)\n",
    "\n",
    "# Define search space\n",
    "search_space = SearchSpace(input_channels=3, num_classes=10)\n",
    "\n",
    "# Initialize population of architectures\n",
    "initial_population = [\n",
    "    [(16, 3, 1), (32, 3, 2), (64, 3, 2)],  # Example architecture 1\n",
    "    [(32, 5, 1), (64, 5, 2), (128, 3, 2)]  # Example architecture 2\n",
    "]  # Add more to form initial population\n",
    "\n",
    "# Run evolutionary algorithm-based NAS\n",
    "best_architecture = evolutionary_search(\n",
    "    population=initial_population, \n",
    "    search_space=search_space, \n",
    "    trainloader=trainloader, \n",
    "    testloader=testloader, \n",
    "    num_generations=20\n",
    ")\n",
    "\n",
    "print(f'Best architecture found: {best_architecture}')"
   ]
  }
 ],
 "metadata": {
  "language_info": {
   "name": "python"
  }
 },
 "nbformat": 4,
 "nbformat_minor": 2
}
